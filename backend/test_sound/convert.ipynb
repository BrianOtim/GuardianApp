{
 "cells": [
  {
   "cell_type": "code",
   "execution_count": 12,
   "metadata": {},
   "outputs": [
    {
     "name": "stdout",
     "output_type": "stream",
     "text": [
      "1 Name: th1.mp3  Duration: 2  Dur raw: 2.1681632653061222\n",
      "2 Name: tlm1.mp3  Duration: 2  Dur raw: 2.56\n",
      "3 Name: tp1.mp3  Duration: 2  Dur raw: 2.5338775510204083\n",
      "['th1.mp3', 'tlm1.mp3', 'tp1.mp3']\n"
     ]
    }
   ],
   "source": [
    "import os\n",
    "from pydub import AudioSegment\n",
    "\n",
    "files = os.listdir('.')\n",
    "files.remove('convert.ipynb')\n",
    "\n",
    "def inspect():\n",
    "    count = 1\n",
    "    cant_open = []\n",
    "    \n",
    "    for file in files:\n",
    "        #read mp3 file to an audio segment\n",
    "        if ('.wav' in file):\n",
    "            continue\n",
    "        word = AudioSegment.from_mp3(file)\n",
    "        dur = word.duration_seconds\n",
    "        duration = int(word.duration_seconds)\n",
    "        output_name = file.replace('mp3', 'wav')\n",
    "        word.export(output_name, format=\"wav\")\n",
    "        print(f\"{count} Name: {file}  Duration: {duration}  Dur raw: {dur}\")\n",
    "        count += 1\n",
    "        cant_open.append(file)\n",
    "\n",
    "    print(cant_open)\n",
    "\n",
    "inspect()"
   ]
  }
 ],
 "metadata": {
  "kernelspec": {
   "display_name": "data",
   "language": "python",
   "name": "python3"
  },
  "language_info": {
   "codemirror_mode": {
    "name": "ipython",
    "version": 3
   },
   "file_extension": ".py",
   "mimetype": "text/x-python",
   "name": "python",
   "nbconvert_exporter": "python",
   "pygments_lexer": "ipython3",
   "version": "3.10.9"
  }
 },
 "nbformat": 4,
 "nbformat_minor": 2
}
